{
 "cells": [
  {
   "cell_type": "markdown",
   "id": "1f1ba925-6e7f-45ae-94e7-e5fc99446205",
   "metadata": {},
   "source": [
    "### Ski Shop Sales Data Analysis"
   ]
  },
  {
   "cell_type": "code",
   "execution_count": 5,
   "id": "ea9b8fea-c3b9-4dfd-80a7-2af41c4e2637",
   "metadata": {},
   "outputs": [],
   "source": [
    "# Importing favourable libraries and functions\n",
    "\n",
    "import openpyxl as xl\n",
    "from tax_calculator import tax_calculator\n",
    "from pprint import pprint"
   ]
  },
  {
   "cell_type": "code",
   "execution_count": 7,
   "id": "3b1350ae-d623-43cc-9d1d-e41c09d92411",
   "metadata": {},
   "outputs": [],
   "source": [
    "# Loading the dataset\n",
    "\n",
    "wb = xl.load_workbook(filename = 'ski_shop_data.xlsx')\n",
    "orders = wb['Orders_Info']"
   ]
  },
  {
   "cell_type": "markdown",
   "id": "b0ebb930-0763-4c44-9396-39de44053296",
   "metadata": {},
   "source": [
    "### Columnn Printer Function\n",
    "This function will help us to view the imported data without opening the dataset and review the data we have written in the columns."
   ]
  },
  {
   "cell_type": "code",
   "execution_count": 10,
   "id": "33b932e3-f874-40bb-b9c5-680f5655355f",
   "metadata": {},
   "outputs": [],
   "source": [
    "def column_printer(sheet, column):\n",
    "    \n",
    "    # sheet.max_row function takes all the rows from the dataset.\n",
    "    # +1 makes sure all the rows are selected.\n",
    "    \n",
    "    for i in range(1, sheet.max_row + 1):\n",
    "        print(f\"{column}{i}\", sheet[f\"{column}{i}\"].value)"
   ]
  },
  {
   "cell_type": "code",
   "execution_count": 12,
   "id": "8fae9023-4725-4eb1-a145-c654dfc2943a",
   "metadata": {
    "scrolled": true
   },
   "outputs": [
    {
     "name": "stdout",
     "output_type": "stream",
     "text": [
      "A1 Order_ID\n",
      "A2 100000\n",
      "A3 100001\n",
      "A4 100002\n",
      "A5 100003\n",
      "A6 100004\n",
      "A7 100005\n",
      "A8 100006\n",
      "A9 100007\n",
      "A10 100008\n",
      "A11 100009\n",
      "A12 100010\n",
      "A13 100011\n",
      "A14 100012\n",
      "A15 100013\n",
      "A16 100014\n",
      "A17 100020\n",
      "A18 100021\n",
      "A19 100022\n",
      "A20 100023\n",
      "A21 100024\n",
      "A22 100025\n",
      "A23 100026\n",
      "A24 100027\n",
      "A25 100031\n",
      "A26 100032\n",
      "A27 100033\n",
      "A28 100034\n"
     ]
    }
   ],
   "source": [
    "column_printer(orders, 'A')"
   ]
  },
  {
   "cell_type": "code",
   "execution_count": 14,
   "id": "4ee9b853-10b8-4dba-bf51-4ff169e6c022",
   "metadata": {
    "scrolled": true
   },
   "outputs": [
    {
     "name": "stdout",
     "output_type": "stream",
     "text": [
      "D1 Subtotal\n",
      "D2 15.98\n",
      "D3 899.97\n",
      "D4 799.97\n",
      "D5 117.96\n",
      "D6 5.99\n",
      "D7 599.99\n",
      "D8 24.99\n",
      "D9 1799.94\n",
      "D10 99.99\n",
      "D11 254.95\n",
      "D12 29.98\n",
      "D13 99.99\n",
      "D14 25.98\n",
      "D15 649.98\n",
      "D16 89.99\n",
      "D17 119.99\n",
      "D18 599.99\n",
      "D19 649.98\n",
      "D20 24.99\n",
      "D21 99.99\n",
      "D22 99.99\n",
      "D23 5.99\n",
      "D24 24.99\n",
      "D25 999.96\n",
      "D26 99.99\n",
      "D27 399.97\n",
      "D28 89.99\n"
     ]
    }
   ],
   "source": [
    "column_printer(orders, 'D')"
   ]
  },
  {
   "cell_type": "code",
   "execution_count": 16,
   "id": "0b9cfcb9-c6e0-4bf6-94b1-986cb0d9ce8b",
   "metadata": {
    "scrolled": true
   },
   "outputs": [],
   "source": [
    "# Creating a dictionary for information contained in Orders_info\n",
    "# column A as key and columns B,C,D,G,H as value pairs\n",
    "\n",
    "dict_of_order = {\n",
    "    orders[f\"A{order}\"].value : [\n",
    "        orders[f\"B{order}\"].value,\n",
    "        orders[f\"C{order}\"].value,\n",
    "        orders[f\"D{order}\"].value,\n",
    "        orders[f\"G{order}\"].value,\n",
    "        str(orders[f\"H{order}\"].value).split(', ')\n",
    "    ]\n",
    "    for order in range(2, orders.max_row + 1)\n",
    "}"
   ]
  },
  {
   "cell_type": "markdown",
   "id": "7a197264-c4e7-45fc-bee7-024f9dfabc8c",
   "metadata": {},
   "source": [
    "### Sales Tax Calculation\n",
    "1. If the location is Sun Valley, apply 8% tax.\n",
    "2. If the location is Mammoth, apply 7.75% tax.\n",
    "3. if the location is Stowe, apply 6% tax."
   ]
  },
  {
   "cell_type": "code",
   "execution_count": 19,
   "id": "22e0c0ad-5290-4499-857c-2a3bee548f40",
   "metadata": {
    "scrolled": true
   },
   "outputs": [
    {
     "name": "stdout",
     "output_type": "stream",
     "text": [
      "{100000: ['C00004', '11/26/2021', 15.98, 1.28, 17.26, 'Sun Valley', ['10001', '10002']],\n",
      " 100001: ['C00007', '11/26/2021', 899.97, 54.0, 953.97, 'Stowe', ['10008', '10009', '10010']],\n",
      " 100002: ['C00015', '11/26/2021', 799.97, 62.0, 861.97, 'Mammoth', ['10011', '10012', '10013']],\n",
      " 100003: ['C00016', '11/26/2021', 117.96, 7.08, 125.04, 'Stowe', ['10002', '10003', '10004', '10006']],\n",
      " 100004: ['C00020', '11/26/2021', 5.99, 0.48, 6.47, 'Sun Valley', ['10001']],\n",
      " 100005: ['C00010', '11/26/2021', 599.99, 46.5, 646.49, 'Mammoth', ['10010']],\n",
      " 100006: ['C00006', '11/26/2021', 24.99, 1.94, 26.93, 'Mammoth', ['10004']],\n",
      " 100007: ['C00001', '11/26/2021', 1799.94, 139.5, 1939.44, 'Mammoth', ['10008', '10008', '10009', '10009', '10009', '10010', '10010']],\n",
      " 100008: ['C00003', '11/26/2021', 99.99, 8.0, 107.99, 'Sun Valley', ['10005']],\n",
      " 100009: ['C00014', '11/26/2021', 254.95, 20.4, 275.35, 'Sun Valley', ['10002', '10003', '10004', '10006', '10007']],\n",
      " 100010: ['C00001', '11/26/2021', 29.98, 2.32, 32.3, 'Mammoth', ['10002', '10003']],\n",
      " 100011: ['C00001', '11/26/2021', 99.99, 7.75, 107.74, 'Mammoth', ['10005']],\n",
      " 100012: ['C00005', '11/26/2021', 25.98, 2.08, 28.06, 'Sun Valley', ['10001', '10003']],\n",
      " 100013: ['C00008', '11/26/2021', 649.98, 39.0, 688.98, 'Stowe', ['10012', '10013']],\n",
      " 100014: ['C00013', '11/26/2021', 89.99, 7.2, 97.19, 'Sun Valley', ['10014']],\n",
      " 100020: ['C00004', '11/27/2021', 119.99, 9.6, 129.59, 'Sun Valley', ['10007']],\n",
      " 100021: ['C00017', '11/27/2021', 599.99, 36.0, 635.99, 'Stowe', ['10010']],\n",
      " 100022: ['C00019', '11/27/2021', 649.98, 52.0, 701.98, 'Sun Valley', ['10012', '10013']],\n",
      " 100023: ['C00002', '11/27/2021', 24.99, 1.5, 26.49, 'Stowe', ['10004']],\n",
      " 100024: ['C00008', '11/27/2021', 99.99, 6.0, 105.99, 'Stowe', ['10005']],\n",
      " 100025: ['C00021', '11/27/2021', 99.99, 7.75, 107.74, 'Mammoth', ['10008']],\n",
      " 100026: ['C00022', '11/27/2021', 5.99, 0.48, 6.47, 'Sun Valley', ['10001']],\n",
      " 100027: ['C00006', '11/28/2021', 24.99, 1.94, 26.93, 'Mammoth', ['10002']],\n",
      " 100031: ['C00018', '11/28/2021', 999.96, 60.0, 1059.96, 'Stowe', ['10005', '10008', '10009', '10010']],\n",
      " 100032: ['C00018', '11/28/2021', 99.99, 6.0, 105.99, 'Stowe', ['10006']],\n",
      " 100033: ['C00010', '11/28/2021', 399.97, 31.0, 430.97, 'Mammoth', ['10005', '10008', '10009']],\n",
      " 100034: ['C00016', '11/28/2021', 89.99, 5.4, 95.39, 'Stowe', ['10014']]}\n"
     ]
    }
   ],
   "source": [
    "for order in dict_of_order.values():\n",
    "    if order[3] == 'Sun Valley' : \n",
    "        transaction = tax_calculator(order[2], 0.08)\n",
    "    elif order[3] == 'Mammoth' : \n",
    "        transaction = tax_calculator(order[2], 0.0775)\n",
    "    else: \n",
    "        transaction = tax_calculator(order[2], 0.06)\n",
    "# To insert the values of tax and total in the orders dictionary\n",
    "    order.insert(3, transaction[1])\n",
    "    order.insert(4, transaction[2])\n",
    "\n",
    "pprint(dict_of_order, width = 150)"
   ]
  },
  {
   "cell_type": "code",
   "execution_count": 21,
   "id": "1a52586a-4df1-4be4-b5f2-a96c08370c4d",
   "metadata": {},
   "outputs": [],
   "source": [
    "# Inserting and loading the new columns in the dataset \n",
    "\n",
    "for index, order in enumerate(dict_of_order.values(), start = 2):\n",
    "    orders[f\"E{index}\"] = order[3]\n",
    "    orders[f\"F{index}\"] = order[4]\n",
    "\n",
    "wb.save('fixed_ski_shop_data.xlsx')"
   ]
  },
  {
   "cell_type": "markdown",
   "id": "d9fc270e-ac2f-4835-af93-88119c2bd504",
   "metadata": {},
   "source": [
    "# Analysis \n",
    "\n",
    "1. Creating a function to find the sum of Subtotal, Tax and Total."
   ]
  },
  {
   "cell_type": "code",
   "execution_count": 24,
   "id": "00038fd1-0e4c-4339-85eb-3782fffd07ae",
   "metadata": {},
   "outputs": [],
   "source": [
    "def sum_of_columns(column_index, dictionary):\n",
    "    return round(sum([value[column_index]for value in dictionary.values()]), 2)"
   ]
  },
  {
   "cell_type": "code",
   "execution_count": 26,
   "id": "81adae6e-45f4-4df0-a341-97b182029c4f",
   "metadata": {},
   "outputs": [
    {
     "name": "stdout",
     "output_type": "stream",
     "text": [
      "Sum of Subtotals : $ 8731.47\n",
      "Sum of Taxes : $ 617.2\n",
      "Sum of Total : $ 9348.67\n"
     ]
    }
   ],
   "source": [
    "print(f\"Sum of Subtotals : $ {sum_of_columns(2, dict_of_order)}\")\n",
    "print(f\"Sum of Taxes : $ {sum_of_columns(3, dict_of_order)}\")\n",
    "print(f\"Sum of Total : $ {sum_of_columns(4, dict_of_order)}\")"
   ]
  },
  {
   "cell_type": "markdown",
   "id": "3415107a-f6ed-42ec-baeb-dda314267bb8",
   "metadata": {},
   "source": [
    "#### Average of subtotals"
   ]
  },
  {
   "cell_type": "code",
   "execution_count": 29,
   "id": "37c41a04-e187-4f0f-86f9-ac96bf8135b4",
   "metadata": {},
   "outputs": [
    {
     "name": "stdout",
     "output_type": "stream",
     "text": [
      "Average of Subtotal : $ 323.39\n"
     ]
    }
   ],
   "source": [
    "# To find the average of subtotal in the dictionary we will devide sum of subtotal to the lenght of subtotal in the dictionary\n",
    "\n",
    "avg_of_subtotals = round(sum_of_columns(2, dict_of_order) / len(dict_of_order), 2)\n",
    "print(f\"Average of Subtotal : $ {avg_of_subtotals}\")"
   ]
  },
  {
   "cell_type": "markdown",
   "id": "d537c3b2-778d-4e2a-a1f0-f3f11681c9cb",
   "metadata": {},
   "source": [
    "#### Calculating total number of unique customers\n",
    "\n",
    "1. Calculating unique customers using set()\n",
    "2. Determining the total number of unique customers using len()"
   ]
  },
  {
   "cell_type": "code",
   "execution_count": 32,
   "id": "8729fdca-9889-4b56-96e7-c8cdc296dd6c",
   "metadata": {},
   "outputs": [
    {
     "name": "stdout",
     "output_type": "stream",
     "text": [
      "Number of Unique customers : 19\n"
     ]
    }
   ],
   "source": [
    "# Using set() removes muntiple identical values from the dictionary\n",
    "\n",
    "unique_customers = len(set([order[0]for order in dict_of_order.values()]))\n",
    "print(f\"Number of Unique customers : {unique_customers}\")"
   ]
  },
  {
   "cell_type": "code",
   "execution_count": 34,
   "id": "339b6547-698d-4cbf-ad3e-81d196f989d7",
   "metadata": {},
   "outputs": [
    {
     "name": "stdout",
     "output_type": "stream",
     "text": [
      "Number of order per customer : 1.42\n"
     ]
    }
   ],
   "source": [
    "# Number of orders per customer\n",
    "\n",
    "orders_per_customer = round(len(dict_of_order) / unique_customers, 2)\n",
    "print(f\"Number of order per customer : {orders_per_customer}\")"
   ]
  },
  {
   "cell_type": "markdown",
   "id": "e67de9a9-069f-43c5-8f5a-4c82d040185e",
   "metadata": {},
   "source": [
    "#### Total number of items sold "
   ]
  },
  {
   "cell_type": "code",
   "execution_count": 37,
   "id": "5d623a99-8177-4801-a78c-ccfe847a7279",
   "metadata": {},
   "outputs": [
    {
     "name": "stdout",
     "output_type": "stream",
     "text": [
      "Total Orders Allover: 54\n"
     ]
    }
   ],
   "source": [
    "# Total number of items sold across all orders\n",
    "\n",
    "total_orders = sum([len(order[6]) for order in dict_of_order.values()])\n",
    "print(f\"Total Orders Allover: {total_orders}\")"
   ]
  },
  {
   "cell_type": "markdown",
   "id": "419a6271-b4ef-468a-a308-4d39844d79b7",
   "metadata": {},
   "source": [
    "#### Sales By Location\n",
    "\n",
    "Creating a dictionary to store sales by location where key is location and value is revenue of that location"
   ]
  },
  {
   "cell_type": "code",
   "execution_count": 40,
   "id": "5ba94978-7e93-46cc-ba6e-b5384fe17213",
   "metadata": {},
   "outputs": [
    {
     "name": "stdout",
     "output_type": "stream",
     "text": [
      "Total Sales by different outlets : {'Sun Valley': 1268.84, 'Stowe': 3672.81, 'Mammoth': 3879.81}\n"
     ]
    }
   ],
   "source": [
    "sum_location = {}\n",
    "\n",
    "for data in dict_of_order.values():\n",
    "    # grabbing the location from the dictionary\n",
    "    location = data[5]\n",
    "    \n",
    "    # adding the locations in the dictionary\n",
    "    sum_location[location] = sum_location.get(location, 0) + data[2]\n",
    "\n",
    "sum_location[location] = sum_location.get(location, 0) + data[2]\n",
    "\n",
    "round_of_sales = {k: round(v, 2) for k, v in sum_location.items()}\n",
    "\n",
    "print(f\"Total Sales by different outlets : {round_of_sales}\")"
   ]
  },
  {
   "cell_type": "markdown",
   "id": "cdfe9553-0a14-4700-86c6-342e5083fd8c",
   "metadata": {},
   "source": [
    "#### Aggregator Function\n",
    "\n",
    "This function will help us to generalize calculating a sum of a column, grouped by the unique values of another column.\n",
    "\n",
    "The function takes following arguments :\n",
    "1. index of the 'column' to group by\n",
    "2. index of the 'column' to sum by category\n",
    "3. the dictionary where the data is located\n",
    "\n",
    "It will return :\n",
    "1. A dictonary with category as keys and the sum by category as the values"
   ]
  },
  {
   "cell_type": "code",
   "execution_count": 43,
   "id": "4aa6177d-8bc6-47b7-80b3-229b7e5dc997",
   "metadata": {},
   "outputs": [],
   "source": [
    "def aggregator(category_index, field_sum_index, dictionary):\n",
    "    \n",
    "    sum_category= {}\n",
    "\n",
    "    for data in dictionary.values():\n",
    "    \n",
    "       category = data[category_index]\n",
    "        \n",
    "       # adding the locations in the dictionary\n",
    "       sum_category[category] = round(sum_category.get(category, 0) + data[field_sum_index], 2)\n",
    "\n",
    "    return sum_category"
   ]
  },
  {
   "cell_type": "code",
   "execution_count": 45,
   "id": "5ce4bad6-c189-4d70-9b56-7604db72fca2",
   "metadata": {},
   "outputs": [
    {
     "name": "stdout",
     "output_type": "stream",
     "text": [
      "Total sales by date : {'11/26/2021': 5915.18, '11/27/2021': 1714.25, '11/28/2021': 1719.24}\n"
     ]
    }
   ],
   "source": [
    "print(f\"Total sales by date : {aggregator(1, 4, dict_of_order)}\")"
   ]
  },
  {
   "cell_type": "code",
   "execution_count": 47,
   "id": "19e5ec0f-30e2-4283-8bdd-7dc35b8f4513",
   "metadata": {},
   "outputs": [
    {
     "name": "stdout",
     "output_type": "stream",
     "text": [
      "Total sales per Customer : {'C00004': 146.85, 'C00007': 953.97, 'C00015': 861.97, 'C00016': 220.43, 'C00020': 6.47, 'C00010': 1077.46, 'C00006': 53.86, 'C00001': 2079.48, 'C00003': 107.99, 'C00014': 275.35, 'C00005': 28.06, 'C00008': 794.97, 'C00013': 97.19, 'C00017': 635.99, 'C00019': 701.98, 'C00002': 26.49, 'C00021': 107.74, 'C00022': 6.47, 'C00018': 1165.95}\n"
     ]
    }
   ],
   "source": [
    "print(f\"Total sales per Customer : {aggregator(0, 4, dict_of_order)}\")"
   ]
  }
 ],
 "metadata": {
  "kernelspec": {
   "display_name": "Python [conda env:venv]",
   "language": "python",
   "name": "conda-env-venv-py"
  },
  "language_info": {
   "codemirror_mode": {
    "name": "ipython",
    "version": 3
   },
   "file_extension": ".py",
   "mimetype": "text/x-python",
   "name": "python",
   "nbconvert_exporter": "python",
   "pygments_lexer": "ipython3",
   "version": "3.12.0"
  }
 },
 "nbformat": 4,
 "nbformat_minor": 5
}
